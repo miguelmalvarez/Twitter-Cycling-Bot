{
 "cells": [
  {
   "cell_type": "code",
   "execution_count": null,
   "metadata": {},
   "outputs": [],
   "source": [
    "import requests\n",
    "import configparser"
   ]
  },
  {
   "cell_type": "code",
   "execution_count": null,
   "metadata": {},
   "outputs": [],
   "source": [
    "## Util functions\n",
    "def parse_config(config_file):\n",
    "    config = configparser.ConfigParser()\n",
    "    config.read(config_file)\n",
    "    return config"
   ]
  },
  {
   "cell_type": "code",
   "execution_count": null,
   "metadata": {},
   "outputs": [],
   "source": [
    "config = parse_config('config.cfg')\n",
    "weather_api_key = config['DEFAULT']['open_weather_key']"
   ]
  },
  {
   "cell_type": "code",
   "execution_count": null,
   "metadata": {},
   "outputs": [],
   "source": [
    "## Test weather, then move to forecast\n",
    "base_url = 'http://api.openweathermap.org/data/2.5/weather'\n",
    "city = 'London,uk'\n",
    "\n",
    "request = base_url+'?q={}&appid={}&units=metric'.format(city, weather_api_key)"
   ]
  },
  {
   "cell_type": "code",
   "execution_count": null,
   "metadata": {},
   "outputs": [],
   "source": [
    "res = requests.get(request)\n",
    "data = res.json()"
   ]
  },
  {
   "cell_type": "code",
   "execution_count": null,
   "metadata": {},
   "outputs": [],
   "source": [
    "## TODO: Find rain probability\n",
    "date = '11 Oct'\n",
    "min_temperature = data['main']['temp_min']\n",
    "max_temperature = data['main']['temp_max']\n",
    "humidity = data['main']['humidity']\n",
    "wind = data['wind']['speed']\n",
    "sunrise = datetime.fromtimestamp(data['sys']['sunrise'])\n",
    "sunset = datetime.fromtimestamp(data['sys']['sunset'])\n",
    "\n",
    "data.keys()"
   ]
  },
  {
   "cell_type": "code",
   "execution_count": null,
   "metadata": {},
   "outputs": [],
   "source": [
    "print(\"Weather details for {}\".format(date))\n",
    "print(\"{} - {} degrees with {}% of humidity\".format(min_temperature, max_temperature, humidity))\n",
    "print(\"{} kph winds\".format(wind))\n",
    "print(\"Sunrise at {} and Sunset at {}\".format(sunrise.strftime(\"%H:%M:%S\"),\n",
    "                                              sunset.strftime(\"%H:%M:%S\")))"
   ]
  }
 ],
 "metadata": {
  "kernelspec": {
   "display_name": "Python 3",
   "language": "python",
   "name": "python3"
  },
  "language_info": {
   "codemirror_mode": {
    "name": "ipython",
    "version": 3
   },
   "file_extension": ".py",
   "mimetype": "text/x-python",
   "name": "python",
   "nbconvert_exporter": "python",
   "pygments_lexer": "ipython3",
   "version": "3.7.2"
  }
 },
 "nbformat": 4,
 "nbformat_minor": 2
}
