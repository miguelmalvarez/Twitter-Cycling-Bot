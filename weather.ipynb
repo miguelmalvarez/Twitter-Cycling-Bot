{
 "cells": [
  {
   "cell_type": "code",
   "execution_count": null,
   "metadata": {},
   "outputs": [],
   "source": [
    "import requests\n",
    "import configparser\n",
    "from datetime import datetime"
   ]
  },
  {
   "cell_type": "code",
   "execution_count": null,
   "metadata": {},
   "outputs": [],
   "source": [
    "## Util functions\n",
    "def parse_config(config_file):\n",
    "    config = configparser.ConfigParser()\n",
    "    config.read(config_file)\n",
    "    return config"
   ]
  },
  {
   "cell_type": "code",
   "execution_count": null,
   "metadata": {},
   "outputs": [],
   "source": [
    "config = parse_config('config.cfg')\n",
    "weather_api_key = config['DEFAULT']['open_weather_key']"
   ]
  },
  {
   "cell_type": "code",
   "execution_count": null,
   "metadata": {},
   "outputs": [],
   "source": [
    "## Open Weather functions\n",
    "## TODO: Find rain probability\n",
    "\n",
    "date = '11 Oct'\n",
    "    \n",
    "def time_slot_datapoint(openweather_response, starting_timings):\n",
    "    for datapoint in openweather_response['list']:\n",
    "        if datetime.fromtimestamp(datapoint['dt']).hour in starting_timings:\n",
    "            return(datapoint)\n",
    "\n",
    "def morning_datapoint(openweather_response):\n",
    "    # 5,6,7 are the hours that will fit a 3-hour window at the morning commute time\n",
    "    return time_slot_datapoint(openweather_response, [5,6,7])\n",
    "\n",
    "def afternoon_datapoint(openweather_response):\n",
    "    # 16,17,18 are the hours that will fit a 3-hour window at the afternoon commute time\n",
    "    return time_slot_datapoint(openweather_response, [16,17,18])\n",
    "  \n",
    "def extract_timeslot_weather_data(datapoint):\n",
    "    weather = {}\n",
    "    weather['dt'] = datetime.fromtimestamp(datapoint['dt'])\n",
    "    weather['min_temperature'] = datapoint['main']['temp_min']\n",
    "    weather['max_temperature'] = datapoint['main']['temp_max']\n",
    "    weather['humidity'] = datapoint['main']['humidity']\n",
    "    weather['wind'] = datapoint['wind']['speed']\n",
    "    return weather\n",
    "    \n",
    "def weather_data():\n",
    "    ## Sunrise / Sunset data\n",
    "    base_url = 'http://api.openweathermap.org/data/2.5/weather'\n",
    "    city = 'London,uk'\n",
    "    request = base_url+'?q={}&appid={}&units=metric'.format(city, weather_api_key)\n",
    "    data = requests.get(request).json()\n",
    "    day_weather = {}\n",
    "    day_weather['sunrise'] = datetime.fromtimestamp(data['sys']['sunrise'])\n",
    "    day_weather['sunset'] = datetime.fromtimestamp(data['sys']['sunset'])\n",
    "    \n",
    "    ## Forecast 3-hour windows data\n",
    "    base_url = 'http://api.openweathermap.org/data/2.5/forecast'\n",
    "    city = 'London,uk'\n",
    "    request = base_url+'?q={}&appid={}&units=metric'.format(city, weather_api_key)\n",
    "    data = requests.get(request).json()\n",
    "    weather = {}\n",
    "    weather['morning'] = {'sunrise': day_weather['sunrise']}\n",
    "    weather['morning'].update(extract_timeslot_weather_data(morning_datapoint(data)))\n",
    "    weather['afternoon'] = {'sunset': day_weather['sunset']}\n",
    "    weather['afternoon'].update(extract_timeslot_weather_data(afternoon_datapoint(data)))\n",
    "    \n",
    "    return weather"
   ]
  },
  {
   "cell_type": "code",
   "execution_count": null,
   "metadata": {},
   "outputs": [],
   "source": [
    "weather_data()"
   ]
  },
  {
   "cell_type": "code",
   "execution_count": null,
   "metadata": {},
   "outputs": [],
   "source": [
    "# print(\"Weather details for {}\".format(date))\n",
    "# print(\"{} - {} degrees with {}% of humidity\".format(min_temperature, max_temperature, humidity))\n",
    "# print(\"{} kph winds\".format(wind))\n",
    "# print(\"Sunrise at {} and Sunset at {}\".format(sunrise.strftime(\"%H:%M:%S\"),\n",
    "#                                               sunset.strftime(\"%H:%M:%S\")))"
   ]
  },
  {
   "cell_type": "code",
   "execution_count": null,
   "metadata": {},
   "outputs": [],
   "source": [
    "## Twitter API helper functions\n",
    "\n",
    "def authorise_twitter_api(config):\n",
    "    auth = OAuthHandler(config['DEFAULT']['consumer_key'], \n",
    "                        config['DEFAULT']['consumer_secret'])\n",
    "    auth.set_access_token(config['DEFAULT']['access_token'], \n",
    "                          config['DEFAULT']['access_secret'])\n",
    "    return auth\n"
   ]
  },
  {
   "cell_type": "code",
   "execution_count": null,
   "metadata": {},
   "outputs": [],
   "source": [
    "import tweepy\n",
    "from tweepy import OAuthHandler\n",
    "\n",
    "config = parse_config('config.cfg')\n",
    "auth = authorise_twitter_api(config)\n",
    "api = tweepy.API(auth, wait_on_rate_limit=True)"
   ]
  },
  {
   "cell_type": "code",
   "execution_count": null,
   "metadata": {
    "scrolled": false
   },
   "outputs": [],
   "source": [
    "## Tweet\n",
    "api.update_status(\"This is my first tweet. Hello World!\")"
   ]
  }
 ],
 "metadata": {
  "kernelspec": {
   "display_name": "Python 3",
   "language": "python",
   "name": "python3"
  },
  "language_info": {
   "codemirror_mode": {
    "name": "ipython",
    "version": 3
   },
   "file_extension": ".py",
   "mimetype": "text/x-python",
   "name": "python",
   "nbconvert_exporter": "python",
   "pygments_lexer": "ipython3",
   "version": "3.7.4"
  }
 },
 "nbformat": 4,
 "nbformat_minor": 2
}
