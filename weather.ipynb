{
 "cells": [
  {
   "cell_type": "markdown",
   "metadata": {},
   "source": [
    "# Cycling Wardrobe \n",
    "The goal of this project is to create and use a twitter bot that will tweet once per day with a summary of weather forecast for a city (London in my case) and a recommendation of what to wear for a cycling commute based on the weather forecast."
   ]
  },
  {
   "cell_type": "markdown",
   "metadata": {},
   "source": [
    "## Weather Forecast\n",
    "This part of the notebook takes care of the Weather forecast and the connection with OpenWeather"
   ]
  },
  {
   "cell_type": "code",
   "execution_count": null,
   "metadata": {},
   "outputs": [],
   "source": [
    "import requests\n",
    "import configparser\n",
    "from datetime import datetime, timedelta"
   ]
  },
  {
   "cell_type": "code",
   "execution_count": null,
   "metadata": {},
   "outputs": [],
   "source": [
    "def parse_config(config_file):\n",
    "    config = configparser.ConfigParser()\n",
    "    config.read(config_file)\n",
    "    return config"
   ]
  },
  {
   "cell_type": "code",
   "execution_count": null,
   "metadata": {},
   "outputs": [],
   "source": [
    "## Open Weather functions\n",
    "## TODO: Find rain probability\n",
    "\n",
    "def time_slot_datapoint(openweather_response, day_to_predict, starting_timings):\n",
    "    for datapoint in openweather_response['list']:\n",
    "        if datetime.fromtimestamp(datapoint['dt']).date()==day_to_predict and datetime.fromtimestamp(datapoint['dt']).hour in starting_timings:\n",
    "            return(datapoint)\n",
    "\n",
    "def time_datapoint(openweather_response, day_to_predict, time):\n",
    "    # The hours that will fit a 3-hour window at the given time are t-2, t-1 and t\n",
    "    return time_slot_datapoint(openweather_response, day_to_predict, [time-2, time-1, time])\n",
    "  \n",
    "def extract_timeslot_weather_data(datapoint):\n",
    "    weather = {}\n",
    "    weather['dt'] = datetime.fromtimestamp(datapoint['dt'])\n",
    "    weather['min_temperature'] = datapoint['main']['temp_min']\n",
    "    weather['max_temperature'] = datapoint['main']['temp_max']\n",
    "    weather['humidity'] = datapoint['main']['humidity']\n",
    "    weather['wind'] = datapoint['wind']['speed']\n",
    "    return weather\n",
    "    \n",
    "## TODO add 7am and 6pm as variables\n",
    "# It returns weather forecast data for today (if ran before 7am) or for tomorrow otherwise\n",
    "def weather_data(weather_api_key):\n",
    "    ## Sunrise / Sunset data (note: these times are computed for the day when the call is made)\n",
    "    base_url = 'http://api.openweathermap.org/data/2.5/weather'\n",
    "    city = 'London,uk'\n",
    "    request = base_url+'?q={}&appid={}&units=metric'.format(city, weather_api_key)\n",
    "    data = requests.get(request).json()\n",
    "    day_weather = {}\n",
    "    day_weather['sunrise'] = datetime.fromtimestamp(data['sys']['sunrise'])\n",
    "    day_weather['sunset'] = datetime.fromtimestamp(data['sys']['sunset'])\n",
    "    \n",
    "    ## Forecast 3-hour windows data\n",
    "    base_url = 'http://api.openweathermap.org/data/2.5/forecast'\n",
    "    city = 'London,uk'\n",
    "    request = base_url+'?q={}&appid={}&units=metric'.format(city, weather_api_key)\n",
    "    data = requests.get(request).json()\n",
    "    \n",
    "    # Commuting times\n",
    "    morning_time = 7\n",
    "    afternoon_time = 18\n",
    "    \n",
    "    now = datetime.now()\n",
    "    # If we run this after the morning time, we will predict for tomorrow\n",
    "    if now.hour>morning_time:\n",
    "        day_to_predict = (now + timedelta(days = 1)).date()\n",
    "    else:\n",
    "        day_to_predict = now.date()\n",
    "    \n",
    "    weather = {}\n",
    "    weather['morning'] = {'sunrise': day_weather['sunrise']}\n",
    "    weather['morning'].update(extract_timeslot_weather_data(time_datapoint(data, day_to_predict, morning_time)))\n",
    "    weather['afternoon'] = {'sunset': day_weather['sunset']}\n",
    "    weather['afternoon'].update(extract_timeslot_weather_data(time_datapoint(data, day_to_predict, afternoon_time)))\n",
    "    \n",
    "    return weather"
   ]
  },
  {
   "cell_type": "markdown",
   "metadata": {},
   "source": [
    "## Recommendation\n",
    "Depending on the weather factors, the system will recommend a specific type of clothes and cycling gear"
   ]
  },
  {
   "cell_type": "code",
   "execution_count": null,
   "metadata": {},
   "outputs": [],
   "source": [
    "## First iteration based only on the lowest of min temperature and returning a string\n",
    "def gear_recommendation(weather_forecast):\n",
    "    min_temperature = min(weather_forecast['morning']['min_temperature'], \n",
    "                          weather_forecast['afternoon']['min_temperature'])\n",
    "    \n",
    "    if min_temperature < 5:\n",
    "        return (\"Wear jacket with underskin, thick globes, long bib and thermal socks. Cover for head and neck.\")\n",
    "    elif min_temperature < 10:\n",
    "        return (\"Wear jacket, thick globes and long bib. Cover for head and neck.\")\n",
    "    elif min_temperature < 15:\n",
    "        return (\"Wear long mallot or mallot with arm warmers, long globes and long bib or short with leg warmers. Cover for neck.\")\n",
    "    elif min_temperature < 20:\n",
    "        return (\"Wear mallot (carry arm warmers in case), fingerless globes and short bib.\")\n",
    "    else:\n",
    "        return (\"Wear thin mallot, fingerless globes and short bib.\")\n",
    "    "
   ]
  },
  {
   "cell_type": "markdown",
   "metadata": {},
   "source": [
    "## Twitter integration\n",
    "This part of the notebook deals with the twitter API and the posts that will be shared in social media"
   ]
  },
  {
   "cell_type": "code",
   "execution_count": null,
   "metadata": {},
   "outputs": [],
   "source": [
    "import tweepy\n",
    "from tweepy import OAuthHandler"
   ]
  },
  {
   "cell_type": "code",
   "execution_count": null,
   "metadata": {},
   "outputs": [],
   "source": [
    "def authorise_twitter_api(config):\n",
    "    auth = OAuthHandler(config['DEFAULT']['consumer_key'], \n",
    "                        config['DEFAULT']['consumer_secret'])\n",
    "    auth.set_access_token(config['DEFAULT']['access_token'], \n",
    "                          config['DEFAULT']['access_secret'])\n",
    "    return auth\n",
    "    \n",
    "# TODO: Add emojis\n",
    "def tweet_recommendation(weather_forecast, recommendation):\n",
    "    message = 'Weather for {} in London\\n'.format(weather_forecast['morning']['dt'].strftime(\"%A %d\"))\n",
    "    message+= 'Morning - {} degrees (C) with {} kph wind. '.format(weather_forecast['morning']['min_temperature'],\n",
    "                                                                   weather_forecast['morning']['wind'])\n",
    "    message+= 'Afternoon - {} degrees with {} kph wind.\\n'.format(weather_forecast['afternoon']['min_temperature'],\n",
    "                                                                  weather_forecast['afternoon']['wind'])\n",
    "    \n",
    "    message += recommendation\n",
    "#     api.update_status(\"This is my first tweet. Hello World!\")\n",
    "    print(message)"
   ]
  },
  {
   "cell_type": "markdown",
   "metadata": {},
   "source": [
    "## Execution\n",
    "This part of the notebook glues everything together by getting the weather forecasts, making a recommendation for what to wear and tweeting it"
   ]
  },
  {
   "cell_type": "code",
   "execution_count": null,
   "metadata": {},
   "outputs": [],
   "source": [
    "## Intitialisation\n",
    "config = parse_config('config.cfg')\n",
    "weather_api_key = config['DEFAULT']['open_weather_key']\n",
    "auth = authorise_twitter_api(config)\n",
    "api = tweepy.API(auth, wait_on_rate_limit=True)"
   ]
  },
  {
   "cell_type": "code",
   "execution_count": null,
   "metadata": {
    "scrolled": true
   },
   "outputs": [],
   "source": [
    "weather_forecast = weather_data(weather_api_key)\n",
    "weather_forecast"
   ]
  },
  {
   "cell_type": "code",
   "execution_count": null,
   "metadata": {},
   "outputs": [],
   "source": [
    "# ## Weather\n",
    "weather_forecast = weather_data(weather_api_key)\n",
    "\n",
    "# ## Recommendation\n",
    "clothes = gear_recommendation(weather_forecast)\n",
    "\n",
    "## Tweet\n",
    "tweet_recommendation(weather_forecast, clothes)"
   ]
  }
 ],
 "metadata": {
  "kernelspec": {
   "display_name": "Python 3",
   "language": "python",
   "name": "python3"
  },
  "language_info": {
   "codemirror_mode": {
    "name": "ipython",
    "version": 3
   },
   "file_extension": ".py",
   "mimetype": "text/x-python",
   "name": "python",
   "nbconvert_exporter": "python",
   "pygments_lexer": "ipython3",
   "version": "3.7.4"
  }
 },
 "nbformat": 4,
 "nbformat_minor": 2
}
